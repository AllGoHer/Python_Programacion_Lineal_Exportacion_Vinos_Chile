{
 "cells": [
  {
   "cell_type": "markdown",
   "id": "8c01c18c",
   "metadata": {},
   "source": [
    "\"\"\"\n",
    "Contexto:\n",
    "En este ejercicio, trabajaremos en un problema de logística para optimizar el proceso de exportación de vinos desde las reconocidas regiones vitivinícolas de Chile (Maipo, Casablanca, Colchagua) hacia los puertos de Valparaíso y San Antonio.\n",
    "\n",
    "Objetivo:\n",
    "El objetivo es minimizar el costo total del transporte del vino, considerando las capacidades de producción de cada región y la demanda de los puertos para exportación.\n",
    "\n",
    "Datos del Problema:\n",
    "- Oferta (Capacidad de Producción en pallets):\n",
    "  - Maipo: 240 pallets\n",
    "  - Casablanca: 360 pallets\n",
    "  - Colchagua: 500 pallets\n",
    "- Demanda (Requerimientos de los Puertos en pallets):\n",
    "  - Valparaíso: 475 pallets\n",
    "  - San Antonio: 510 pallets\n",
    "- Costos de Transporte (CLP por pallet):\n",
    "  - Maipo a Valparaíso: 22,000\n",
    "  - Maipo a San Antonio: 26,000\n",
    "  - Casablanca a Valparaíso: 18,000\n",
    "  - Casablanca a San Antonio: 23,000\n",
    "  - Colchagua a Valparaíso: 30,000\n",
    "  - Colchagua a San Antonio: 28,000\n",
    "\n",
    "Tareas:\n",
    "1. Modelar el Problema: Utiliza Pyomo para definir el modelo de programación lineal. Incluye variables de decisión, función objetivo y restricciones.\n",
    "2. Variables de Decisión: Cantidad de pallets de vino a transportar desde cada región a cada puerto.\n",
    "3. Función Objetivo: Minimizar el costo total de transporte.\n",
    "4. Restricciones:\n",
    "   - Respetar la capacidad de producción de cada región vitivinícola.\n",
    "   - Satisfacer la demanda de cada puerto.\n",
    "5. Resolver el Modelo: Usa un solver como GLPK para encontrar la solución óptima.\n",
    "6. Análisis de Resultados: Interpreta los resultados para entender la distribución óptima de envíos y el costo total del transporte.\n",
    "\n",
    "Notas Adicionales:\n",
    "- Este ejercicio es una oportunidad para aplicar y comprender la programación lineal en un contexto real y relevante.\n",
    "- Considera las implicaciones de la solución obtenida en términos de logística y eficiencia operativa.\n",
    "\"\"\""
   ]
  },
  {
   "cell_type": "code",
   "execution_count": null,
   "id": "044f6768",
   "metadata": {},
   "outputs": [],
   "source": [
    "# Importamos la biblioteca pyomo"
   ]
  },
  {
   "cell_type": "code",
   "execution_count": 128,
   "id": "7dd39e23",
   "metadata": {},
   "outputs": [],
   "source": [
    "from pyomo.environ import *"
   ]
  },
  {
   "cell_type": "code",
   "execution_count": null,
   "id": "f7d749e9",
   "metadata": {},
   "outputs": [],
   "source": [
    "# Datos del problema"
   ]
  },
  {
   "cell_type": "code",
   "execution_count": 129,
   "id": "1880d214",
   "metadata": {},
   "outputs": [],
   "source": [
    "Oferta = {'Maipo': 240, 'Casablanca': 360, 'Colchagua': 500} # Pallets disponibles en cada viñedo"
   ]
  },
  {
   "cell_type": "code",
   "execution_count": 131,
   "id": "3083ec31",
   "metadata": {},
   "outputs": [],
   "source": [
    "Demanda = {'Valparaiso': 475, 'SanAntonio': 510} # Pallets requerido en cada Puerto con ruta comercial hacia el mercado objetivo"
   ]
  },
  {
   "cell_type": "code",
   "execution_count": 130,
   "id": "063f2842",
   "metadata": {},
   "outputs": [],
   "source": [
    "Costos = {('Maipo', 'Valparaiso'): 22000, ('Maipo', 'SanAntonio'): 26000,\n",
    "          ('Casablanca', 'Valparaiso'): 18000, ('Casablanca', 'SanAntonio'): 23000,\n",
    "          ('Colchagua', 'Valparaiso'): 30000, ('Colchagua', 'SanAntonio'): 28000} # Costos por pallet"
   ]
  },
  {
   "cell_type": "code",
   "execution_count": null,
   "id": "fcca8f2c",
   "metadata": {},
   "outputs": [],
   "source": [
    "# Crear el modelo de Pyomo"
   ]
  },
  {
   "cell_type": "code",
   "execution_count": 132,
   "id": "25780d91",
   "metadata": {},
   "outputs": [],
   "source": [
    "modelo = ConcreteModel()"
   ]
  },
  {
   "cell_type": "code",
   "execution_count": null,
   "id": "d8d1b023",
   "metadata": {},
   "outputs": [],
   "source": [
    "# Crea las lista VINEDOS y PUERTOS que contiene los nombres de todas las regiones vitivinícolas y puertos\n",
    "# definidas en los diccionario Ofertas y Demanda respectivamente"
   ]
  },
  {
   "cell_type": "code",
   "execution_count": 133,
   "id": "2dfed4a7",
   "metadata": {},
   "outputs": [],
   "source": [
    "VINEDOS = list(Oferta.keys())"
   ]
  },
  {
   "cell_type": "code",
   "execution_count": 134,
   "id": "b1ad8df3",
   "metadata": {},
   "outputs": [],
   "source": [
    "PUERTOS = list(Demanda.keys())"
   ]
  },
  {
   "cell_type": "code",
   "execution_count": 135,
   "id": "6187cde3",
   "metadata": {},
   "outputs": [],
   "source": [
    "# Definimos las Variables de decisión\n",
    "# x es la cantidad de pallets enviadas desde cada PUERTO a cada VINEDO"
   ]
  },
  {
   "cell_type": "code",
   "execution_count": 136,
   "id": "a396dc50",
   "metadata": {},
   "outputs": [],
   "source": [
    "modelo.x = Var(VINEDOS, PUERTOS, domain=NonNegativeReals) # Número de pallets enviados desde un viñedo hacia un puerto determinado"
   ]
  },
  {
   "cell_type": "code",
   "execution_count": null,
   "id": "66e26b61",
   "metadata": {},
   "outputs": [],
   "source": [
    "# Función objetivo: Minimizar costo de transporte\n",
    "# Minimizar la sumatoria del costo por pallet * número da pallets"
   ]
  },
  {
   "cell_type": "code",
   "execution_count": 138,
   "id": "c5f3fff2",
   "metadata": {},
   "outputs": [],
   "source": [
    "modelo.CostoTransporte = Objective(\n",
    "    expr=sum(Costos[v,p]*modelo.x[v,p] for v in VINEDOS for p in PUERTOS), sense=minimize)"
   ]
  },
  {
   "cell_type": "code",
   "execution_count": null,
   "id": "4e6eb561",
   "metadata": {},
   "outputs": [],
   "source": [
    "# Restricciones de oferta de los viñedos\n",
    "# La sumatoria de los pallets enviadas de un viñedo respectivo a los puertos debe ser menor a la Oferta en pallets\n",
    "# dicho viñedo\n",
    "# .add() va añadiendo restricciones a la lista ConstraintList()"
   ]
  },
  {
   "cell_type": "code",
   "execution_count": 140,
   "id": "fa150120",
   "metadata": {},
   "outputs": [],
   "source": [
    "modelo.restriccionVinedo = ConstraintList()\n",
    "for v in VINEDOS:\n",
    "    modelo.restriccionVinedo.add(sum(modelo.x[v,p] for p in PUERTOS) <= Oferta[v])"
   ]
  },
  {
   "cell_type": "code",
   "execution_count": null,
   "id": "cadc5977",
   "metadata": {},
   "outputs": [],
   "source": [
    "# Restricciones para satisfacer la demanda de cada puerto\n",
    "# La sumatoria de los envíos de todos los viñedos debe ser igual a la demanda del puerto respectivo"
   ]
  },
  {
   "cell_type": "code",
   "execution_count": 141,
   "id": "05561467",
   "metadata": {},
   "outputs": [],
   "source": [
    "modelo.restriccionPuerto = ConstraintList()\n",
    "for p in PUERTOS:\n",
    "    modelo.restriccionPuerto.add(sum(modelo.x[v,p] for v in VINEDOS) == Demanda[p])"
   ]
  },
  {
   "cell_type": "code",
   "execution_count": null,
   "id": "f5833893",
   "metadata": {},
   "outputs": [],
   "source": [
    "# Resolver el modelo"
   ]
  },
  {
   "cell_type": "code",
   "execution_count": 142,
   "id": "53dafdd1",
   "metadata": {},
   "outputs": [],
   "source": [
    "solucion = SolverFactory('glpk').solve(modelo)"
   ]
  },
  {
   "cell_type": "code",
   "execution_count": null,
   "id": "87c5c5b6",
   "metadata": {},
   "outputs": [],
   "source": [
    "# Imprimir resultados"
   ]
  },
  {
   "cell_type": "code",
   "execution_count": 144,
   "id": "5aa327e8",
   "metadata": {},
   "outputs": [
    {
     "name": "stdout",
     "output_type": "stream",
     "text": [
      "Costo Total de Transporte CLP: 23040000.0\n",
      "Con los siguientes envíos:\n",
      "Envíe desde el viñedo en Maipo al puerto Valparaiso 115.0 pallets\n",
      "Envíe desde el viñedo en Maipo al puerto SanAntonio 125.0 pallets\n",
      "Envíe desde el viñedo en Casablanca al puerto Valparaiso 360.0 pallets\n",
      "Envíe desde el viñedo en Colchagua al puerto SanAntonio 385.0 pallets\n"
     ]
    }
   ],
   "source": [
    "print(\"Costo Total de Transporte CLP:\", value(modelo.CostoTransporte))\n",
    "print(\"Con los siguientes envíos:\")\n",
    "for v in VINEDOS: \n",
    "    for p in PUERTOS:\n",
    "        if value(modelo.x[v,p]) >0:\n",
    "            print(\"Envíe desde el viñedo en\", v, \"al puerto\", p, value(modelo.x[v,p]), \"pallets\" )"
   ]
  },
  {
   "cell_type": "code",
   "execution_count": null,
   "id": "8a621851",
   "metadata": {},
   "outputs": [],
   "source": []
  },
  {
   "cell_type": "code",
   "execution_count": null,
   "id": "6374b9e8",
   "metadata": {},
   "outputs": [],
   "source": []
  },
  {
   "cell_type": "code",
   "execution_count": null,
   "id": "a505d72e",
   "metadata": {},
   "outputs": [],
   "source": []
  },
  {
   "cell_type": "code",
   "execution_count": null,
   "id": "dbc65179",
   "metadata": {},
   "outputs": [],
   "source": []
  }
 ],
 "metadata": {
  "kernelspec": {
   "display_name": "Python 3",
   "language": "python",
   "name": "python3"
  },
  "language_info": {
   "codemirror_mode": {
    "name": "ipython",
    "version": 3
   },
   "file_extension": ".py",
   "mimetype": "text/x-python",
   "name": "python",
   "nbconvert_exporter": "python",
   "pygments_lexer": "ipython3",
   "version": "3.8.8"
  }
 },
 "nbformat": 4,
 "nbformat_minor": 5
}
